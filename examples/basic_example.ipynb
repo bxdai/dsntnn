{
 "cells": [
  {
   "cell_type": "code",
   "execution_count": 5,
   "metadata": {},
   "outputs": [],
   "source": [
    "import torch \n",
    "torch.manual_seed(12345)\n",
    "from torch import nn\n",
    "import dsntnn\n",
    "class FCN(nn.Module):\n",
    "    def __init__(self):\n",
    "        super().__init__()\n",
    "        self.layers = nn.Sequential(\n",
    "            nn.Conv2d(3, 16, kernel_size=3, padding=1),\n",
    "            nn.ReLU(),\n",
    "            nn.BatchNorm2d(16),\n",
    "            nn.Conv2d(16, 16, kernel_size=3, padding=1),\n",
    "            nn.ReLU(),\n",
    "            nn.BatchNorm2d(16),\n",
    "            nn.Conv2d(16, 16, kernel_size=3, padding=1),\n",
    "        )\n",
    "    def forward(self, x):\n",
    "        return self.layers(x)"
   ]
  },
  {
   "cell_type": "code",
   "execution_count": 6,
   "metadata": {},
   "outputs": [],
   "source": [
    "class CoordRegressionNetwork(nn.Module):\n",
    "    def __init__(self, n_locations):\n",
    "        super().__init__()\n",
    "        self.fcn = FCN()\n",
    "        self.hm_conv = nn.Conv2d(16, n_locations, kernel_size=1, bias=False)\n",
    " \n",
    "    def forward(self, images):\n",
    "        # 1. Run the images through our FCN\n",
    "        fcn_out = self.fcn(images)\n",
    "        # 2. Use a 1x1 conv to get one unnormalized heatmap per location\n",
    "        unnormalized_heatmaps = self.hm_conv(fcn_out)\n",
    "        # 3. Normalize the heatmaps\n",
    "        heatmaps = dsntnn.flat_softmax(unnormalized_heatmaps)\n",
    "        # 4. Calculate the coordinates\n",
    "        coords = dsntnn.dsnt(heatmaps)\n",
    " \n",
    "        return coords, heatmaps"
   ]
  },
  {
   "cell_type": "code",
   "execution_count": 3,
   "metadata": {},
   "outputs": [
    {
     "data": {
      "image/png": "[encoded data removed]",
      "text/plain": [
       "<Figure size 432x288 with 1 Axes>"
      ]
     },
     "metadata": {
      "needs_background": "light"
     },
     "output_type": "display_data"
    }
   ],
   "source": [
    "from torch import optim\n",
    "import matplotlib.pyplot as plt\n",
    "import scipy\n",
    "import scipy.misc as sm\n",
    "import numpy as np\n",
    "from skimage.transform import resize\n",
    " \n",
    "image_size = [40, 40]\n",
    "#raccoon_face = sm.imresize(scipy.misc.face()[200:400, 600:800, :], image_size)  # (40, 40, 3)\n",
    "#无需降级scipy，解决AttributeError: module ‘scipy.misc’ has no attribute ‘imread’，imresize，imsave问题\n",
    "#https://blog.csdn.net/huang1024rui/article/details/119668502\n",
    "raccoon_face = resize(scipy.misc.face()[200:400, 600:800, :],output_shape=image_size)\n",
    "eye_x, eye_y = 24, 26\n",
    " \n",
    "plt.imshow(raccoon_face)\n",
    "plt.scatter([eye_x], [eye_y], color='red', marker='X')\n",
    "plt.show()"
   ]
  },
  {
   "cell_type": "markdown",
   "metadata": {},
   "source": [
    "由于DSNT输出的坐标范围是(-1, 1)，所以需要将target的坐标也归一化到这个范围"
   ]
  },
  {
   "cell_type": "code",
   "execution_count": 7,
   "metadata": {},
   "outputs": [
    {
     "name": "stdout",
     "output_type": "stream",
     "text": [
      "Target: 0.2250, 0.3250\n"
     ]
    }
   ],
   "source": [
    "raccoon_face_tensor = torch.from_numpy(raccoon_face).permute(2, 0, 1).float()  # torch.Size([3, 40, 40])\n",
    "input_tensor = raccoon_face_tensor.div(255).unsqueeze(0)  # torch.Size([1, 3, 40, 40])\n",
    "input_var = input_tensor.cuda()\n",
    " \n",
    "eye_coords_tensor = torch.Tensor([[[eye_x, eye_y]]])  # shape = [1, 1, 2],value=[[[24., 26.]]]\n",
    "\n",
    "#由于DSNT输出的坐标范围是(-1, 1)，所以需要将target的坐标也归一化到这个范围\n",
    "target_tensor = (eye_coords_tensor * 2 + 1) / torch.Tensor(image_size) - 1  # shape = [1, 1, 2],value=[[[0.2250, 0.3250]]]\n",
    "target_var = target_tensor.cuda()\n",
    " \n",
    "print('Target: {:0.4f}, {:0.4f}'.format(*list(target_tensor.squeeze())))"
   ]
  },
  {
   "cell_type": "code",
   "execution_count": 9,
   "metadata": {},
   "outputs": [
    {
     "data": {
      "image/png": "[encoded data removed]",
      "text/plain": [
       "<Figure size 432x288 with 1 Axes>"
      ]
     },
     "metadata": {
      "needs_background": "light"
     },
     "output_type": "display_data"
    },
    {
     "name": "stdout",
     "output_type": "stream",
     "text": [
      "Target: 0.2250, 0.3250\n",
      "Predicted coords: 0.2276, 0.3213\n"
     ]
    },
    {
     "data": {
      "image/png": "[encoded data removed]",
      "text/plain": [
       "<Figure size 432x288 with 1 Axes>"
      ]
     },
     "metadata": {
      "needs_background": "light"
     },
     "output_type": "display_data"
    }
   ],
   "source": [
    "import scipy\n",
    "import scipy.misc as sm\n",
    "import matplotlib.pyplot as plt\n",
    "import torch\n",
    "torch.manual_seed(12345)\n",
    "from torch import nn\n",
    "import dsntnn\n",
    "import torch.optim as optim\n",
    "class FCN(nn.Module):\n",
    "    def __init__(self):\n",
    "        super().__init__()\n",
    "        self.layers = nn.Sequential(\n",
    "            nn.Conv2d(3, 16, kernel_size=3, padding=1),\n",
    "            nn.ReLU(),\n",
    "            nn.BatchNorm2d(16),\n",
    "            nn.Conv2d(16, 16, kernel_size=3, padding=1),\n",
    "            nn.ReLU(),\n",
    "            nn.BatchNorm2d(16),\n",
    "            nn.Conv2d(16, 16, kernel_size=3, padding=1),\n",
    "        )\n",
    "    def forward(self, x):\n",
    "        return self.layers(x)\n",
    "class CoordRegressionNetwork(nn.Module):\n",
    "    def __init__(self, n_locations):\n",
    "        super().__init__()\n",
    "        self.fcn = FCN()\n",
    "        self.hm_conv = nn.Conv2d(16, n_locations, kernel_size=1, bias=False)\n",
    "    def forward(self, images):\n",
    "        # 1. Run the images through our FCN\n",
    "        fcn_out = self.fcn(images)\n",
    "        # 2. Use a 1x1 conv to get one unnormalized heatmap per location\n",
    "        unnormalized_heatmaps = self.hm_conv(fcn_out)\n",
    "        # 3. Normalize the heatmaps\n",
    "        heatmaps = dsntnn.flat_softmax(unnormalized_heatmaps)\n",
    "        # 4. Calculate the coordinates\n",
    "        coords = dsntnn.dsnt(heatmaps)\n",
    "        return coords, heatmaps\n",
    "image_size = [40, 40]\n",
    "#raccoon_face = sm.imresize(scipy.misc.face()[200:400, 600:800, :], image_size)      # (40, 40, 3)\n",
    "raccoon_face = resize(scipy.misc.face()[200:400, 600:800, :], image_size)      # (40, 40, 3)\n",
    "eye_x, eye_y = 24, 26\n",
    "plt.imshow(raccoon_face)\n",
    "plt.scatter([eye_x], [eye_y], color='red', marker='X')\n",
    "plt.show()\n",
    "raccoon_face_tensor = torch.from_numpy(raccoon_face).permute(2, 0, 1).float()   # torch.Size([3, 40, 40])\n",
    "input_tensor = raccoon_face_tensor.div(255).unsqueeze(0)    # torch.Size([1, 3, 40, 40])\n",
    "input_var = input_tensor.cuda()\n",
    "eye_coords_tensor = torch.Tensor([[[eye_x, eye_y]]])    # # shape = [1, 1, 2],value=[[[24., 26.]]]\n",
    "target_tensor = (eye_coords_tensor * 2 + 1) / torch.Tensor(image_size) - 1  # shape = [1, 1, 2],value=[[[0.2250, 0.3250]]]\n",
    "target_var = target_tensor.cuda()\n",
    "print('Target: {:0.4f}, {:0.4f}'.format(*list(target_tensor.squeeze())))\n",
    "model = CoordRegressionNetwork(n_locations=1).cuda()    # n_locations=keypoint num=1\n",
    "# coords, heatmaps = model(input_var)\n",
    "# print('Initial prediction: {:0.4f}, {:0.4f}'.format(*list(coords[0, 0])))\n",
    "# plt.imshow(heatmaps[0, 0].detach().cpu().numpy())\n",
    "# plt.show()\n",
    "optimizer = optim.RMSprop(model.parameters(), lr=2.5e-4)\n",
    "for i in range(400):\n",
    "    # Forward pass\n",
    "    coords, heatmaps = model(input_var)\n",
    "    # coords:shape=[1, 1, 2], value=[[[0.0323, 0.0566]]]; heatmaps:shape=[1, 1, 40, 40]\n",
    "    # Per-location euclidean losses\n",
    "    euc_losses = dsntnn.euclidean_losses(coords, target_var)\n",
    "    # Per-location regularization losses\n",
    "    reg_losses = dsntnn.js_reg_losses(heatmaps, target_var, sigma_t=1.0)\n",
    "    # Combine losses into an overall loss\n",
    "    loss = dsntnn.average_loss(euc_losses + reg_losses)\n",
    "    # Calculate gradients\n",
    "    optimizer.zero_grad()\n",
    "    loss.backward()\n",
    "    # Update model parameters with RMSprop\n",
    "    optimizer.step()\n",
    "# Predictions after training\n",
    "print('Predicted coords: {:0.4f}, {:0.4f}'.format(*list(coords[0, 0])))\n",
    "plt.imshow(heatmaps[0, 0].detach().cpu().numpy())\n",
    "plt.show()"
   ]
  },
  {
   "cell_type": "code",
   "execution_count": 65,
   "metadata": {},
   "outputs": [
    {
     "name": "stdout",
     "output_type": "stream",
     "text": [
      "torch.Size([2])\n",
      "Predicted coords: 24.0519, 25.9265\n"
     ]
    }
   ],
   "source": [
    "xy_tensor = coords.detach().cpu()\n",
    "xy = (((xy_tensor + 1) * torch.Tensor(image_size)) - 1 )/ 2\n",
    "print(xy[0,0].shape)\n",
    "print('Predicted coords: {:0.4f}, {:0.4f}'.format(*list(xy[0, 0])))"
   ]
  }
 ],
 "metadata": {
  "interpreter": {
   "hash": "70f3c038ccd4929d4f5e3f1b4e72d58d2d31a35463a2e52dc84c448bb4aefeb0"
  },
  "kernelspec": {
   "display_name": "Python 3.9.7 64-bit",
   "language": "python",
   "name": "python3"
  },
  "language_info": {
   "codemirror_mode": {
    "name": "ipython",
    "version": 3
   },
   "file_extension": ".py",
   "mimetype": "text/x-python",
   "name": "python",
   "nbconvert_exporter": "python",
   "pygments_lexer": "ipython3",
   "version": "3.9.7"
  },
  "orig_nbformat": 4
 },
 "nbformat": 4,
 "nbformat_minor": 2
}
