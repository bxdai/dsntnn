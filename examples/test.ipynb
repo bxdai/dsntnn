{
 "cells": [
  {
   "cell_type": "code",
   "execution_count": 1,
   "metadata": {},
   "outputs": [
    {
     "name": "stderr",
     "output_type": "stream",
     "text": [
      "C:\\Users\\Bxd\\AppData\\Local\\Programs\\Python\\Python39\\lib\\site-packages\\tqdm\\auto.py:22: TqdmWarning: IProgress not found. Please update jupyter and ipywidgets. See https://ipywidgets.readthedocs.io/en/stable/user_install.html\n",
      "  from .autonotebook import tqdm as notebook_tqdm\n"
     ]
    }
   ],
   "source": [
    "import torch \n",
    "import numpy as np\n",
    "import dsntnn"
   ]
  },
  {
   "cell_type": "code",
   "execution_count": 3,
   "metadata": {},
   "outputs": [
    {
     "data": {
      "text/plain": [
       "tensor([[[[ 0.2361, -0.8176, -0.9598, -0.3652],\n",
       "          [-0.8845,  2.0987, -0.1237, -0.6479],\n",
       "          [-0.3771, -1.0403,  0.3725, -1.2063]],\n",
       "\n",
       "         [[ 0.1475,  1.2261,  0.3129,  0.3771],\n",
       "          [-1.5386, -0.5114, -0.3449, -0.2635],\n",
       "          [-0.1373,  0.4222, -0.3038,  0.0219]]]])"
      ]
     },
     "execution_count": 3,
     "metadata": {},
     "output_type": "execute_result"
    }
   ],
   "source": [
    "t1 = torch.randn(24).reshape([1,2,3,4])\n",
    "t1"
   ]
  },
  {
   "cell_type": "code",
   "execution_count": 4,
   "metadata": {},
   "outputs": [
    {
     "data": {
      "text/plain": [
       "tensor([[[-1.1333, -0.2298],\n",
       "         [ 0.8798, -1.3738]]])"
      ]
     },
     "execution_count": 4,
     "metadata": {},
     "output_type": "execute_result"
    }
   ],
   "source": [
    "t2 = dsntnn.soft_argmax(t1)\n",
    "t2"
   ]
  },
  {
   "cell_type": "code",
   "execution_count": 6,
   "metadata": {},
   "outputs": [
    {
     "data": {
      "text/plain": [
       "(tensor([[[[0.0814, 0.0284, 0.0246, 0.0446],\n",
       "           [0.0266, 0.5245, 0.0568, 0.0336],\n",
       "           [0.0441, 0.0227, 0.0933, 0.0192]],\n",
       " \n",
       "          [[0.0837, 0.2462, 0.0988, 0.1053],\n",
       "           [0.0155, 0.0433, 0.0512, 0.0555],\n",
       "           [0.0630, 0.1102, 0.0533, 0.0738]]]]),\n",
       " torch.Size([1, 2, 3, 4]))"
      ]
     },
     "execution_count": 6,
     "metadata": {},
     "output_type": "execute_result"
    }
   ],
   "source": [
    "t3 = dsntnn.flat_softmax(t1)\n",
    "t3,t3.shape"
   ]
  },
  {
   "cell_type": "code",
   "execution_count": 7,
   "metadata": {},
   "outputs": [
    {
     "data": {
      "text/plain": [
       "torch.Size([3, 4])"
      ]
     },
     "execution_count": 7,
     "metadata": {},
     "output_type": "execute_result"
    }
   ],
   "source": [
    "t1.shape[2:]"
   ]
  },
  {
   "cell_type": "code",
   "execution_count": 10,
   "metadata": {},
   "outputs": [
    {
     "data": {
      "text/plain": [
       "(tensor([[0.0814, 0.0284, 0.0246, 0.0446, 0.0266, 0.5245, 0.0568, 0.0336, 0.0441,\n",
       "          0.0227, 0.0933, 0.0192],\n",
       "         [0.0837, 0.2462, 0.0988, 0.1053, 0.0155, 0.0433, 0.0512, 0.0555, 0.0630,\n",
       "          0.1102, 0.0533, 0.0738]]),\n",
       " torch.Size([2, 12]))"
      ]
     },
     "execution_count": 10,
     "metadata": {},
     "output_type": "execute_result"
    }
   ],
   "source": [
    "from functools import reduce\n",
    "from operator import mul\n",
    "flat = t1.view(-1, reduce(mul, t1.size()[2:]))\n",
    "flat = torch.nn.functional.softmax(flat, -1)\n",
    "flat,flat.shape"
   ]
  },
  {
   "cell_type": "code",
   "execution_count": null,
   "metadata": {},
   "outputs": [],
   "source": [
    "orig_size = t1.size()\n",
    "flat = t1.view(-1, reduce(mul, orig_size[2:]))\n",
    "flat = torch.nn.functional.softmax(flat, -1)\n",
    "flat.view(*orig_size)"
   ]
  }
 ],
 "metadata": {
  "interpreter": {
   "hash": "70f3c038ccd4929d4f5e3f1b4e72d58d2d31a35463a2e52dc84c448bb4aefeb0"
  },
  "kernelspec": {
   "display_name": "Python 3.9.7 64-bit",
   "language": "python",
   "name": "python3"
  },
  "language_info": {
   "codemirror_mode": {
    "name": "ipython",
    "version": 3
   },
   "file_extension": ".py",
   "mimetype": "text/x-python",
   "name": "python",
   "nbconvert_exporter": "python",
   "pygments_lexer": "ipython3",
   "version": "3.9.7"
  },
  "orig_nbformat": 4
 },
 "nbformat": 4,
 "nbformat_minor": 2
}
